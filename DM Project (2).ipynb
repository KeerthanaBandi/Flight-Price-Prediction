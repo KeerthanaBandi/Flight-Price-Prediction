{
 "cells": [
  {
   "cell_type": "markdown",
   "id": "a773567e",
   "metadata": {},
   "source": [
    "## Importing libraries"
   ]
  },
  {
   "cell_type": "code",
   "execution_count": 25,
   "id": "fd29d121",
   "metadata": {},
   "outputs": [],
   "source": [
    "import pandas as pd\n",
    "import numpy as np\n",
    "\n",
    "from sklearn.linear_model import LinearRegression\n",
    "from sklearn.ensemble import RandomForestRegressor\n",
    "from sklearn.metrics import r2_score,mean_squared_error\n",
    "from sklearn.model_selection import train_test_split\n",
    "from sklearn.model_selection import GridSearchCV, cross_val_score\n",
    "\n",
    "from sklearn.model_selection import cross_val_score,KFold\n",
    "\n",
    "# importing visualization packages\n",
    "import matplotlib as mpl\n",
    "from matplotlib import pyplot as plt\n",
    "import seaborn as sns\n",
    "\n",
    "# ingnoring the warnings\n",
    "import warnings\n",
    "warnings.filterwarnings('ignore')"
   ]
  },
  {
   "cell_type": "markdown",
   "id": "990125e7",
   "metadata": {},
   "source": [
    "## Data Accessing"
   ]
  },
  {
   "cell_type": "code",
   "execution_count": 2,
   "id": "9e0bc440",
   "metadata": {
    "scrolled": true
   },
   "outputs": [],
   "source": [
    "df_flights=pd.read_csv(r'C:\\Users\\pavan\\OneDrive\\Desktop\\Data Mining\\Project\\Flights.csv')"
   ]
  },
  {
   "cell_type": "markdown",
   "id": "67a6af95",
   "metadata": {},
   "source": [
    "## Data Preprocessing"
   ]
  },
  {
   "cell_type": "code",
   "execution_count": 3,
   "id": "ab973f0d",
   "metadata": {},
   "outputs": [
    {
     "data": {
      "text/plain": [
       "(300153, 12)"
      ]
     },
     "execution_count": 3,
     "metadata": {},
     "output_type": "execute_result"
    }
   ],
   "source": [
    "df_flights.shape"
   ]
  },
  {
   "cell_type": "code",
   "execution_count": 4,
   "id": "fd5cc014",
   "metadata": {},
   "outputs": [
    {
     "data": {
      "text/html": [
       "<style type=\"text/css\">\n",
       "</style>\n",
       "<table id=\"T_03b7b\">\n",
       "  <thead>\n",
       "    <tr>\n",
       "      <th id=\"T_03b7b_level0_col0\" class=\"col_heading level0 col0\" >Unnamed: 0</th>\n",
       "      <th id=\"T_03b7b_level0_col1\" class=\"col_heading level0 col1\" >airline</th>\n",
       "      <th id=\"T_03b7b_level0_col2\" class=\"col_heading level0 col2\" >flight</th>\n",
       "      <th id=\"T_03b7b_level0_col3\" class=\"col_heading level0 col3\" >source_city</th>\n",
       "      <th id=\"T_03b7b_level0_col4\" class=\"col_heading level0 col4\" >departure_time</th>\n",
       "      <th id=\"T_03b7b_level0_col5\" class=\"col_heading level0 col5\" >stops</th>\n",
       "      <th id=\"T_03b7b_level0_col6\" class=\"col_heading level0 col6\" >arrival_time</th>\n",
       "      <th id=\"T_03b7b_level0_col7\" class=\"col_heading level0 col7\" >destination_city</th>\n",
       "      <th id=\"T_03b7b_level0_col8\" class=\"col_heading level0 col8\" >class</th>\n",
       "      <th id=\"T_03b7b_level0_col9\" class=\"col_heading level0 col9\" >duration</th>\n",
       "      <th id=\"T_03b7b_level0_col10\" class=\"col_heading level0 col10\" >days_left</th>\n",
       "      <th id=\"T_03b7b_level0_col11\" class=\"col_heading level0 col11\" >price</th>\n",
       "    </tr>\n",
       "  </thead>\n",
       "  <tbody>\n",
       "    <tr>\n",
       "      <td id=\"T_03b7b_row0_col0\" class=\"data row0 col0\" >0</td>\n",
       "      <td id=\"T_03b7b_row0_col1\" class=\"data row0 col1\" >SpiceJet</td>\n",
       "      <td id=\"T_03b7b_row0_col2\" class=\"data row0 col2\" >SG-8709</td>\n",
       "      <td id=\"T_03b7b_row0_col3\" class=\"data row0 col3\" >Delhi</td>\n",
       "      <td id=\"T_03b7b_row0_col4\" class=\"data row0 col4\" >Evening</td>\n",
       "      <td id=\"T_03b7b_row0_col5\" class=\"data row0 col5\" >zero</td>\n",
       "      <td id=\"T_03b7b_row0_col6\" class=\"data row0 col6\" >Night</td>\n",
       "      <td id=\"T_03b7b_row0_col7\" class=\"data row0 col7\" >Mumbai</td>\n",
       "      <td id=\"T_03b7b_row0_col8\" class=\"data row0 col8\" >Economy</td>\n",
       "      <td id=\"T_03b7b_row0_col9\" class=\"data row0 col9\" >2.170000</td>\n",
       "      <td id=\"T_03b7b_row0_col10\" class=\"data row0 col10\" >1</td>\n",
       "      <td id=\"T_03b7b_row0_col11\" class=\"data row0 col11\" >5953</td>\n",
       "    </tr>\n",
       "    <tr>\n",
       "      <td id=\"T_03b7b_row1_col0\" class=\"data row1 col0\" >1</td>\n",
       "      <td id=\"T_03b7b_row1_col1\" class=\"data row1 col1\" >SpiceJet</td>\n",
       "      <td id=\"T_03b7b_row1_col2\" class=\"data row1 col2\" >SG-8157</td>\n",
       "      <td id=\"T_03b7b_row1_col3\" class=\"data row1 col3\" >Delhi</td>\n",
       "      <td id=\"T_03b7b_row1_col4\" class=\"data row1 col4\" >Early_Morning</td>\n",
       "      <td id=\"T_03b7b_row1_col5\" class=\"data row1 col5\" >zero</td>\n",
       "      <td id=\"T_03b7b_row1_col6\" class=\"data row1 col6\" >Morning</td>\n",
       "      <td id=\"T_03b7b_row1_col7\" class=\"data row1 col7\" >Mumbai</td>\n",
       "      <td id=\"T_03b7b_row1_col8\" class=\"data row1 col8\" >Economy</td>\n",
       "      <td id=\"T_03b7b_row1_col9\" class=\"data row1 col9\" >2.330000</td>\n",
       "      <td id=\"T_03b7b_row1_col10\" class=\"data row1 col10\" >1</td>\n",
       "      <td id=\"T_03b7b_row1_col11\" class=\"data row1 col11\" >5953</td>\n",
       "    </tr>\n",
       "    <tr>\n",
       "      <td id=\"T_03b7b_row2_col0\" class=\"data row2 col0\" >2</td>\n",
       "      <td id=\"T_03b7b_row2_col1\" class=\"data row2 col1\" >AirAsia</td>\n",
       "      <td id=\"T_03b7b_row2_col2\" class=\"data row2 col2\" >I5-764</td>\n",
       "      <td id=\"T_03b7b_row2_col3\" class=\"data row2 col3\" >Delhi</td>\n",
       "      <td id=\"T_03b7b_row2_col4\" class=\"data row2 col4\" >Early_Morning</td>\n",
       "      <td id=\"T_03b7b_row2_col5\" class=\"data row2 col5\" >zero</td>\n",
       "      <td id=\"T_03b7b_row2_col6\" class=\"data row2 col6\" >Early_Morning</td>\n",
       "      <td id=\"T_03b7b_row2_col7\" class=\"data row2 col7\" >Mumbai</td>\n",
       "      <td id=\"T_03b7b_row2_col8\" class=\"data row2 col8\" >Economy</td>\n",
       "      <td id=\"T_03b7b_row2_col9\" class=\"data row2 col9\" >2.170000</td>\n",
       "      <td id=\"T_03b7b_row2_col10\" class=\"data row2 col10\" >1</td>\n",
       "      <td id=\"T_03b7b_row2_col11\" class=\"data row2 col11\" >5956</td>\n",
       "    </tr>\n",
       "    <tr>\n",
       "      <td id=\"T_03b7b_row3_col0\" class=\"data row3 col0\" >3</td>\n",
       "      <td id=\"T_03b7b_row3_col1\" class=\"data row3 col1\" >Vistara</td>\n",
       "      <td id=\"T_03b7b_row3_col2\" class=\"data row3 col2\" >UK-995</td>\n",
       "      <td id=\"T_03b7b_row3_col3\" class=\"data row3 col3\" >Delhi</td>\n",
       "      <td id=\"T_03b7b_row3_col4\" class=\"data row3 col4\" >Morning</td>\n",
       "      <td id=\"T_03b7b_row3_col5\" class=\"data row3 col5\" >zero</td>\n",
       "      <td id=\"T_03b7b_row3_col6\" class=\"data row3 col6\" >Afternoon</td>\n",
       "      <td id=\"T_03b7b_row3_col7\" class=\"data row3 col7\" >Mumbai</td>\n",
       "      <td id=\"T_03b7b_row3_col8\" class=\"data row3 col8\" >Economy</td>\n",
       "      <td id=\"T_03b7b_row3_col9\" class=\"data row3 col9\" >2.250000</td>\n",
       "      <td id=\"T_03b7b_row3_col10\" class=\"data row3 col10\" >1</td>\n",
       "      <td id=\"T_03b7b_row3_col11\" class=\"data row3 col11\" >5955</td>\n",
       "    </tr>\n",
       "    <tr>\n",
       "      <td id=\"T_03b7b_row4_col0\" class=\"data row4 col0\" >4</td>\n",
       "      <td id=\"T_03b7b_row4_col1\" class=\"data row4 col1\" >Vistara</td>\n",
       "      <td id=\"T_03b7b_row4_col2\" class=\"data row4 col2\" >UK-963</td>\n",
       "      <td id=\"T_03b7b_row4_col3\" class=\"data row4 col3\" >Delhi</td>\n",
       "      <td id=\"T_03b7b_row4_col4\" class=\"data row4 col4\" >Morning</td>\n",
       "      <td id=\"T_03b7b_row4_col5\" class=\"data row4 col5\" >zero</td>\n",
       "      <td id=\"T_03b7b_row4_col6\" class=\"data row4 col6\" >Morning</td>\n",
       "      <td id=\"T_03b7b_row4_col7\" class=\"data row4 col7\" >Mumbai</td>\n",
       "      <td id=\"T_03b7b_row4_col8\" class=\"data row4 col8\" >Economy</td>\n",
       "      <td id=\"T_03b7b_row4_col9\" class=\"data row4 col9\" >2.330000</td>\n",
       "      <td id=\"T_03b7b_row4_col10\" class=\"data row4 col10\" >1</td>\n",
       "      <td id=\"T_03b7b_row4_col11\" class=\"data row4 col11\" >5955</td>\n",
       "    </tr>\n",
       "  </tbody>\n",
       "</table>\n"
      ],
      "text/plain": [
       "<pandas.io.formats.style.Styler at 0x23f6a461940>"
      ]
     },
     "execution_count": 4,
     "metadata": {},
     "output_type": "execute_result"
    }
   ],
   "source": [
    "# displaying first 5 rows of data\n",
    "df_flights.head().style.hide_index()"
   ]
  },
  {
   "cell_type": "code",
   "execution_count": 5,
   "id": "bf276d9a",
   "metadata": {},
   "outputs": [
    {
     "data": {
      "text/html": [
       "<style type=\"text/css\">\n",
       "</style>\n",
       "<table id=\"T_3c55a\">\n",
       "  <thead>\n",
       "    <tr>\n",
       "      <th id=\"T_3c55a_level0_col0\" class=\"col_heading level0 col0\" >Unnamed: 0</th>\n",
       "      <th id=\"T_3c55a_level0_col1\" class=\"col_heading level0 col1\" >airline</th>\n",
       "      <th id=\"T_3c55a_level0_col2\" class=\"col_heading level0 col2\" >flight</th>\n",
       "      <th id=\"T_3c55a_level0_col3\" class=\"col_heading level0 col3\" >source_city</th>\n",
       "      <th id=\"T_3c55a_level0_col4\" class=\"col_heading level0 col4\" >departure_time</th>\n",
       "      <th id=\"T_3c55a_level0_col5\" class=\"col_heading level0 col5\" >stops</th>\n",
       "      <th id=\"T_3c55a_level0_col6\" class=\"col_heading level0 col6\" >arrival_time</th>\n",
       "      <th id=\"T_3c55a_level0_col7\" class=\"col_heading level0 col7\" >destination_city</th>\n",
       "      <th id=\"T_3c55a_level0_col8\" class=\"col_heading level0 col8\" >class</th>\n",
       "      <th id=\"T_3c55a_level0_col9\" class=\"col_heading level0 col9\" >duration</th>\n",
       "      <th id=\"T_3c55a_level0_col10\" class=\"col_heading level0 col10\" >days_left</th>\n",
       "      <th id=\"T_3c55a_level0_col11\" class=\"col_heading level0 col11\" >price</th>\n",
       "    </tr>\n",
       "  </thead>\n",
       "  <tbody>\n",
       "    <tr>\n",
       "      <td id=\"T_3c55a_row0_col0\" class=\"data row0 col0\" >300148</td>\n",
       "      <td id=\"T_3c55a_row0_col1\" class=\"data row0 col1\" >Vistara</td>\n",
       "      <td id=\"T_3c55a_row0_col2\" class=\"data row0 col2\" >UK-822</td>\n",
       "      <td id=\"T_3c55a_row0_col3\" class=\"data row0 col3\" >Chennai</td>\n",
       "      <td id=\"T_3c55a_row0_col4\" class=\"data row0 col4\" >Morning</td>\n",
       "      <td id=\"T_3c55a_row0_col5\" class=\"data row0 col5\" >one</td>\n",
       "      <td id=\"T_3c55a_row0_col6\" class=\"data row0 col6\" >Evening</td>\n",
       "      <td id=\"T_3c55a_row0_col7\" class=\"data row0 col7\" >Hyderabad</td>\n",
       "      <td id=\"T_3c55a_row0_col8\" class=\"data row0 col8\" >Business</td>\n",
       "      <td id=\"T_3c55a_row0_col9\" class=\"data row0 col9\" >10.080000</td>\n",
       "      <td id=\"T_3c55a_row0_col10\" class=\"data row0 col10\" >49</td>\n",
       "      <td id=\"T_3c55a_row0_col11\" class=\"data row0 col11\" >69265</td>\n",
       "    </tr>\n",
       "    <tr>\n",
       "      <td id=\"T_3c55a_row1_col0\" class=\"data row1 col0\" >300149</td>\n",
       "      <td id=\"T_3c55a_row1_col1\" class=\"data row1 col1\" >Vistara</td>\n",
       "      <td id=\"T_3c55a_row1_col2\" class=\"data row1 col2\" >UK-826</td>\n",
       "      <td id=\"T_3c55a_row1_col3\" class=\"data row1 col3\" >Chennai</td>\n",
       "      <td id=\"T_3c55a_row1_col4\" class=\"data row1 col4\" >Afternoon</td>\n",
       "      <td id=\"T_3c55a_row1_col5\" class=\"data row1 col5\" >one</td>\n",
       "      <td id=\"T_3c55a_row1_col6\" class=\"data row1 col6\" >Night</td>\n",
       "      <td id=\"T_3c55a_row1_col7\" class=\"data row1 col7\" >Hyderabad</td>\n",
       "      <td id=\"T_3c55a_row1_col8\" class=\"data row1 col8\" >Business</td>\n",
       "      <td id=\"T_3c55a_row1_col9\" class=\"data row1 col9\" >10.420000</td>\n",
       "      <td id=\"T_3c55a_row1_col10\" class=\"data row1 col10\" >49</td>\n",
       "      <td id=\"T_3c55a_row1_col11\" class=\"data row1 col11\" >77105</td>\n",
       "    </tr>\n",
       "    <tr>\n",
       "      <td id=\"T_3c55a_row2_col0\" class=\"data row2 col0\" >300150</td>\n",
       "      <td id=\"T_3c55a_row2_col1\" class=\"data row2 col1\" >Vistara</td>\n",
       "      <td id=\"T_3c55a_row2_col2\" class=\"data row2 col2\" >UK-832</td>\n",
       "      <td id=\"T_3c55a_row2_col3\" class=\"data row2 col3\" >Chennai</td>\n",
       "      <td id=\"T_3c55a_row2_col4\" class=\"data row2 col4\" >Early_Morning</td>\n",
       "      <td id=\"T_3c55a_row2_col5\" class=\"data row2 col5\" >one</td>\n",
       "      <td id=\"T_3c55a_row2_col6\" class=\"data row2 col6\" >Night</td>\n",
       "      <td id=\"T_3c55a_row2_col7\" class=\"data row2 col7\" >Hyderabad</td>\n",
       "      <td id=\"T_3c55a_row2_col8\" class=\"data row2 col8\" >Business</td>\n",
       "      <td id=\"T_3c55a_row2_col9\" class=\"data row2 col9\" >13.830000</td>\n",
       "      <td id=\"T_3c55a_row2_col10\" class=\"data row2 col10\" >49</td>\n",
       "      <td id=\"T_3c55a_row2_col11\" class=\"data row2 col11\" >79099</td>\n",
       "    </tr>\n",
       "    <tr>\n",
       "      <td id=\"T_3c55a_row3_col0\" class=\"data row3 col0\" >300151</td>\n",
       "      <td id=\"T_3c55a_row3_col1\" class=\"data row3 col1\" >Vistara</td>\n",
       "      <td id=\"T_3c55a_row3_col2\" class=\"data row3 col2\" >UK-828</td>\n",
       "      <td id=\"T_3c55a_row3_col3\" class=\"data row3 col3\" >Chennai</td>\n",
       "      <td id=\"T_3c55a_row3_col4\" class=\"data row3 col4\" >Early_Morning</td>\n",
       "      <td id=\"T_3c55a_row3_col5\" class=\"data row3 col5\" >one</td>\n",
       "      <td id=\"T_3c55a_row3_col6\" class=\"data row3 col6\" >Evening</td>\n",
       "      <td id=\"T_3c55a_row3_col7\" class=\"data row3 col7\" >Hyderabad</td>\n",
       "      <td id=\"T_3c55a_row3_col8\" class=\"data row3 col8\" >Business</td>\n",
       "      <td id=\"T_3c55a_row3_col9\" class=\"data row3 col9\" >10.000000</td>\n",
       "      <td id=\"T_3c55a_row3_col10\" class=\"data row3 col10\" >49</td>\n",
       "      <td id=\"T_3c55a_row3_col11\" class=\"data row3 col11\" >81585</td>\n",
       "    </tr>\n",
       "    <tr>\n",
       "      <td id=\"T_3c55a_row4_col0\" class=\"data row4 col0\" >300152</td>\n",
       "      <td id=\"T_3c55a_row4_col1\" class=\"data row4 col1\" >Vistara</td>\n",
       "      <td id=\"T_3c55a_row4_col2\" class=\"data row4 col2\" >UK-822</td>\n",
       "      <td id=\"T_3c55a_row4_col3\" class=\"data row4 col3\" >Chennai</td>\n",
       "      <td id=\"T_3c55a_row4_col4\" class=\"data row4 col4\" >Morning</td>\n",
       "      <td id=\"T_3c55a_row4_col5\" class=\"data row4 col5\" >one</td>\n",
       "      <td id=\"T_3c55a_row4_col6\" class=\"data row4 col6\" >Evening</td>\n",
       "      <td id=\"T_3c55a_row4_col7\" class=\"data row4 col7\" >Hyderabad</td>\n",
       "      <td id=\"T_3c55a_row4_col8\" class=\"data row4 col8\" >Business</td>\n",
       "      <td id=\"T_3c55a_row4_col9\" class=\"data row4 col9\" >10.080000</td>\n",
       "      <td id=\"T_3c55a_row4_col10\" class=\"data row4 col10\" >49</td>\n",
       "      <td id=\"T_3c55a_row4_col11\" class=\"data row4 col11\" >81585</td>\n",
       "    </tr>\n",
       "  </tbody>\n",
       "</table>\n"
      ],
      "text/plain": [
       "<pandas.io.formats.style.Styler at 0x23f6a449c10>"
      ]
     },
     "execution_count": 5,
     "metadata": {},
     "output_type": "execute_result"
    }
   ],
   "source": [
    "# displaying last 5 rows of data\n",
    "df_flights.tail().style.hide_index()"
   ]
  },
  {
   "cell_type": "code",
   "execution_count": 6,
   "id": "12a868dc",
   "metadata": {},
   "outputs": [
    {
     "name": "stdout",
     "output_type": "stream",
     "text": [
      "<class 'pandas.core.frame.DataFrame'>\n",
      "RangeIndex: 300153 entries, 0 to 300152\n",
      "Data columns (total 12 columns):\n",
      " #   Column            Non-Null Count   Dtype  \n",
      "---  ------            --------------   -----  \n",
      " 0   Unnamed: 0        300153 non-null  int64  \n",
      " 1   airline           300153 non-null  object \n",
      " 2   flight            300153 non-null  object \n",
      " 3   source_city       300153 non-null  object \n",
      " 4   departure_time    300153 non-null  object \n",
      " 5   stops             300153 non-null  object \n",
      " 6   arrival_time      300153 non-null  object \n",
      " 7   destination_city  300153 non-null  object \n",
      " 8   class             300153 non-null  object \n",
      " 9   duration          300153 non-null  float64\n",
      " 10  days_left         300153 non-null  int64  \n",
      " 11  price             300153 non-null  int64  \n",
      "dtypes: float64(1), int64(3), object(8)\n",
      "memory usage: 27.5+ MB\n"
     ]
    }
   ],
   "source": [
    "df_flights.info()"
   ]
  },
  {
   "cell_type": "markdown",
   "id": "2f1f1e5c",
   "metadata": {},
   "source": [
    "### Dropping unnecessary column\n",
    "<font size = \"3\"> The first column is unnamed and doesn't add any value for our analysis. So, dropping that column </font>"
   ]
  },
  {
   "cell_type": "code",
   "execution_count": 7,
   "id": "d9795041",
   "metadata": {},
   "outputs": [],
   "source": [
    "df_flights.drop('Unnamed: 0',axis=1,inplace=True)"
   ]
  },
  {
   "cell_type": "code",
   "execution_count": 8,
   "id": "83913c5f",
   "metadata": {
    "scrolled": true
   },
   "outputs": [
    {
     "data": {
      "text/html": [
       "<div>\n",
       "<style scoped>\n",
       "    .dataframe tbody tr th:only-of-type {\n",
       "        vertical-align: middle;\n",
       "    }\n",
       "\n",
       "    .dataframe tbody tr th {\n",
       "        vertical-align: top;\n",
       "    }\n",
       "\n",
       "    .dataframe thead th {\n",
       "        text-align: right;\n",
       "    }\n",
       "</style>\n",
       "<table border=\"1\" class=\"dataframe\">\n",
       "  <thead>\n",
       "    <tr style=\"text-align: right;\">\n",
       "      <th></th>\n",
       "      <th>duration</th>\n",
       "      <th>days_left</th>\n",
       "      <th>price</th>\n",
       "    </tr>\n",
       "  </thead>\n",
       "  <tbody>\n",
       "    <tr>\n",
       "      <th>count</th>\n",
       "      <td>300153.000000</td>\n",
       "      <td>300153.000000</td>\n",
       "      <td>300153.000000</td>\n",
       "    </tr>\n",
       "    <tr>\n",
       "      <th>mean</th>\n",
       "      <td>12.221021</td>\n",
       "      <td>26.004751</td>\n",
       "      <td>20895.024787</td>\n",
       "    </tr>\n",
       "    <tr>\n",
       "      <th>std</th>\n",
       "      <td>7.191997</td>\n",
       "      <td>13.561004</td>\n",
       "      <td>22714.451273</td>\n",
       "    </tr>\n",
       "    <tr>\n",
       "      <th>min</th>\n",
       "      <td>0.830000</td>\n",
       "      <td>1.000000</td>\n",
       "      <td>1105.000000</td>\n",
       "    </tr>\n",
       "    <tr>\n",
       "      <th>25%</th>\n",
       "      <td>6.830000</td>\n",
       "      <td>15.000000</td>\n",
       "      <td>4783.000000</td>\n",
       "    </tr>\n",
       "    <tr>\n",
       "      <th>50%</th>\n",
       "      <td>11.250000</td>\n",
       "      <td>26.000000</td>\n",
       "      <td>7425.000000</td>\n",
       "    </tr>\n",
       "    <tr>\n",
       "      <th>75%</th>\n",
       "      <td>16.170000</td>\n",
       "      <td>38.000000</td>\n",
       "      <td>42521.000000</td>\n",
       "    </tr>\n",
       "    <tr>\n",
       "      <th>max</th>\n",
       "      <td>49.830000</td>\n",
       "      <td>49.000000</td>\n",
       "      <td>191680.000000</td>\n",
       "    </tr>\n",
       "  </tbody>\n",
       "</table>\n",
       "</div>"
      ],
      "text/plain": [
       "            duration      days_left          price\n",
       "count  300153.000000  300153.000000  300153.000000\n",
       "mean       12.221021      26.004751   20895.024787\n",
       "std         7.191997      13.561004   22714.451273\n",
       "min         0.830000       1.000000    1105.000000\n",
       "25%         6.830000      15.000000    4783.000000\n",
       "50%        11.250000      26.000000    7425.000000\n",
       "75%        16.170000      38.000000   42521.000000\n",
       "max        49.830000      49.000000  191680.000000"
      ]
     },
     "execution_count": 8,
     "metadata": {},
     "output_type": "execute_result"
    }
   ],
   "source": [
    "# dispalying the statistical data of the attributes\n",
    "df_flights.describe()"
   ]
  },
  {
   "cell_type": "markdown",
   "id": "9eaa4141",
   "metadata": {},
   "source": [
    "### Checking for null and duplicate values"
   ]
  },
  {
   "cell_type": "code",
   "execution_count": 9,
   "id": "77a637a4",
   "metadata": {},
   "outputs": [
    {
     "data": {
      "text/plain": [
       "airline             0\n",
       "flight              0\n",
       "source_city         0\n",
       "departure_time      0\n",
       "stops               0\n",
       "arrival_time        0\n",
       "destination_city    0\n",
       "class               0\n",
       "duration            0\n",
       "days_left           0\n",
       "price               0\n",
       "dtype: int64"
      ]
     },
     "execution_count": 9,
     "metadata": {},
     "output_type": "execute_result"
    }
   ],
   "source": [
    "df_flights.isnull().sum()"
   ]
  },
  {
   "cell_type": "code",
   "execution_count": 10,
   "id": "a0f90909",
   "metadata": {},
   "outputs": [
    {
     "data": {
      "text/html": [
       "<div>\n",
       "<style scoped>\n",
       "    .dataframe tbody tr th:only-of-type {\n",
       "        vertical-align: middle;\n",
       "    }\n",
       "\n",
       "    .dataframe tbody tr th {\n",
       "        vertical-align: top;\n",
       "    }\n",
       "\n",
       "    .dataframe thead th {\n",
       "        text-align: right;\n",
       "    }\n",
       "</style>\n",
       "<table border=\"1\" class=\"dataframe\">\n",
       "  <thead>\n",
       "    <tr style=\"text-align: right;\">\n",
       "      <th></th>\n",
       "      <th>airline</th>\n",
       "      <th>flight</th>\n",
       "      <th>source_city</th>\n",
       "      <th>departure_time</th>\n",
       "      <th>stops</th>\n",
       "      <th>arrival_time</th>\n",
       "      <th>destination_city</th>\n",
       "      <th>class</th>\n",
       "      <th>duration</th>\n",
       "      <th>days_left</th>\n",
       "      <th>price</th>\n",
       "    </tr>\n",
       "  </thead>\n",
       "  <tbody>\n",
       "  </tbody>\n",
       "</table>\n",
       "</div>"
      ],
      "text/plain": [
       "Empty DataFrame\n",
       "Columns: [airline, flight, source_city, departure_time, stops, arrival_time, destination_city, class, duration, days_left, price]\n",
       "Index: []"
      ]
     },
     "execution_count": 10,
     "metadata": {},
     "output_type": "execute_result"
    }
   ],
   "source": [
    "df_flights[df_flights.duplicated()]"
   ]
  },
  {
   "cell_type": "markdown",
   "id": "4b230e8e",
   "metadata": {},
   "source": [
    "## Scatterplot to identify outliers"
   ]
  },
  {
   "cell_type": "code",
   "execution_count": 11,
   "id": "28b9aac2",
   "metadata": {},
   "outputs": [
    {
     "data": {
      "text/plain": [
       "<AxesSubplot:xlabel='airline', ylabel='price'>"
      ]
     },
     "execution_count": 11,
     "metadata": {},
     "output_type": "execute_result"
    },
    {
     "data": {
      "image/png": "[encoded data removed]",
      "text/plain": [
       "<Figure size 432x288 with 1 Axes>"
      ]
     },
     "metadata": {
      "needs_background": "light"
     },
     "output_type": "display_data"
    }
   ],
   "source": [
    "sns.scatterplot(data=df_flights,x='airline',y='price',hue='class')"
   ]
  },
  {
   "cell_type": "markdown",
   "id": "ff2a9631",
   "metadata": {},
   "source": [
    "## Dropping the outliers"
   ]
  },
  {
   "cell_type": "code",
   "execution_count": 12,
   "id": "972760f8",
   "metadata": {},
   "outputs": [
    {
     "name": "stdout",
     "output_type": "stream",
     "text": [
      "Old Shape:  (300153, 11)\n",
      "New Shape:  (300142, 11)\n"
     ]
    }
   ],
   "source": [
    "Q1 = np.percentile(df_flights['price'],25,interpolation = 'midpoint')\n",
    "Q3 = np.percentile(df_flights['price'],75,interpolation = 'midpoint')\n",
    "\n",
    "IQR = Q3 - Q1\n",
    " \n",
    "print(\"Old Shape: \", df_flights.shape)\n",
    " \n",
    "# Upper bound\n",
    "upper = np.where(df_flights['price'] >= (Q3+2.1*IQR))\n",
    "# Lower bound\n",
    "lower = np.where(df_flights['price'] <= (Q1-1.6*IQR))\n",
    " \n",
    "# Removing the Outliers\n",
    "df_flights.drop(upper[0], inplace = True)\n",
    "df_flights.drop(lower[0], inplace = True)\n",
    " \n",
    "print(\"New Shape: \", df_flights.shape)"
   ]
  },
  {
   "cell_type": "code",
   "execution_count": 13,
   "id": "5d4fe4b3",
   "metadata": {},
   "outputs": [
    {
     "data": {
      "text/plain": [
       "<AxesSubplot:xlabel='airline', ylabel='price'>"
      ]
     },
     "execution_count": 13,
     "metadata": {},
     "output_type": "execute_result"
    },
    {
     "data": {
      "image/png": "[encoded data removed]",
      "text/plain": [
       "<Figure size 432x288 with 1 Axes>"
      ]
     },
     "metadata": {
      "needs_background": "light"
     },
     "output_type": "display_data"
    }
   ],
   "source": [
    "sns.scatterplot(data=df_flights,x='airline',y='price',hue='class')"
   ]
  },
  {
   "cell_type": "markdown",
   "id": "140d593e",
   "metadata": {},
   "source": [
    "<font size =\"3\">The unnamed column and outliers are redundant for our analysis.</font>\n",
    "<font size =\"3\">The dataset is clean after dropping the unnamed column and outliers. Also, there aren't any null values or duplicates in the dataset</font>"
   ]
  },
  {
   "cell_type": "markdown",
   "id": "1cb6e46a",
   "metadata": {},
   "source": [
    "### Modifying the 'stops' column"
   ]
  },
  {
   "cell_type": "code",
   "execution_count": 14,
   "id": "7f5e125d",
   "metadata": {},
   "outputs": [],
   "source": [
    "# Converting numeric word values to numeric digits in 'stops' column\n",
    "# to show its correlation with other attributes.\n",
    "\n",
    "f_stops = df_flights[\"stops\"].values\n",
    "f_price = df_flights[\"price\"].values\n",
    "f_class = df_flights[\"class\"].values\n",
    "\n",
    "for i in range(len(f_stops)):\n",
    "    if f_stops[i] == \"zero\":\n",
    "        f_stops[i] = 0\n",
    "    elif f_stops[i] == \"one\":\n",
    "        f_stops[i] = 1\n",
    "    elif f_stops[i] == \"two_or_more\":\n",
    "        if f_class[i]==\"Economy\":\n",
    "            if f_price[i] >= 1966 and f_price[i] < 10000:\n",
    "                f_stops[i] = 2\n",
    "            elif f_price[i] >= 10000 and f_price[i] < 20000:\n",
    "                f_stops[i] = 3\n",
    "            elif f_price[i] >= 20000 and f_price[i] < 36000:\n",
    "                f_stops[i] = 4\n",
    "        else:\n",
    "            if f_price[i] >= 12000 and f_price[i] < 35000:\n",
    "                f_stops[i] = 2\n",
    "            elif f_price[i] >= 35000 and f_price[i] < 60000:\n",
    "                f_stops[i] = 3\n",
    "            elif f_price[i] >= 60000 and f_price[i] < 118000:\n",
    "                f_stops[i] = 4"
   ]
  },
  {
   "cell_type": "code",
   "execution_count": 15,
   "id": "532b6050",
   "metadata": {},
   "outputs": [],
   "source": [
    "df_flights[\"stops\"]=f_stops"
   ]
  },
  {
   "cell_type": "code",
   "execution_count": 16,
   "id": "5e54df79",
   "metadata": {},
   "outputs": [
    {
     "data": {
      "text/html": [
       "<style type=\"text/css\">\n",
       "</style>\n",
       "<table id=\"T_17f01\">\n",
       "  <thead>\n",
       "    <tr>\n",
       "      <th id=\"T_17f01_level0_col0\" class=\"col_heading level0 col0\" >airline</th>\n",
       "      <th id=\"T_17f01_level0_col1\" class=\"col_heading level0 col1\" >flight</th>\n",
       "      <th id=\"T_17f01_level0_col2\" class=\"col_heading level0 col2\" >source_city</th>\n",
       "      <th id=\"T_17f01_level0_col3\" class=\"col_heading level0 col3\" >departure_time</th>\n",
       "      <th id=\"T_17f01_level0_col4\" class=\"col_heading level0 col4\" >stops</th>\n",
       "      <th id=\"T_17f01_level0_col5\" class=\"col_heading level0 col5\" >arrival_time</th>\n",
       "      <th id=\"T_17f01_level0_col6\" class=\"col_heading level0 col6\" >destination_city</th>\n",
       "      <th id=\"T_17f01_level0_col7\" class=\"col_heading level0 col7\" >class</th>\n",
       "      <th id=\"T_17f01_level0_col8\" class=\"col_heading level0 col8\" >duration</th>\n",
       "      <th id=\"T_17f01_level0_col9\" class=\"col_heading level0 col9\" >days_left</th>\n",
       "      <th id=\"T_17f01_level0_col10\" class=\"col_heading level0 col10\" >price</th>\n",
       "    </tr>\n",
       "  </thead>\n",
       "  <tbody>\n",
       "    <tr>\n",
       "      <td id=\"T_17f01_row0_col0\" class=\"data row0 col0\" >Vistara</td>\n",
       "      <td id=\"T_17f01_row0_col1\" class=\"data row0 col1\" >UK-822</td>\n",
       "      <td id=\"T_17f01_row0_col2\" class=\"data row0 col2\" >Chennai</td>\n",
       "      <td id=\"T_17f01_row0_col3\" class=\"data row0 col3\" >Morning</td>\n",
       "      <td id=\"T_17f01_row0_col4\" class=\"data row0 col4\" >1</td>\n",
       "      <td id=\"T_17f01_row0_col5\" class=\"data row0 col5\" >Evening</td>\n",
       "      <td id=\"T_17f01_row0_col6\" class=\"data row0 col6\" >Hyderabad</td>\n",
       "      <td id=\"T_17f01_row0_col7\" class=\"data row0 col7\" >Business</td>\n",
       "      <td id=\"T_17f01_row0_col8\" class=\"data row0 col8\" >10.080000</td>\n",
       "      <td id=\"T_17f01_row0_col9\" class=\"data row0 col9\" >49</td>\n",
       "      <td id=\"T_17f01_row0_col10\" class=\"data row0 col10\" >69265</td>\n",
       "    </tr>\n",
       "    <tr>\n",
       "      <td id=\"T_17f01_row1_col0\" class=\"data row1 col0\" >Vistara</td>\n",
       "      <td id=\"T_17f01_row1_col1\" class=\"data row1 col1\" >UK-826</td>\n",
       "      <td id=\"T_17f01_row1_col2\" class=\"data row1 col2\" >Chennai</td>\n",
       "      <td id=\"T_17f01_row1_col3\" class=\"data row1 col3\" >Afternoon</td>\n",
       "      <td id=\"T_17f01_row1_col4\" class=\"data row1 col4\" >1</td>\n",
       "      <td id=\"T_17f01_row1_col5\" class=\"data row1 col5\" >Night</td>\n",
       "      <td id=\"T_17f01_row1_col6\" class=\"data row1 col6\" >Hyderabad</td>\n",
       "      <td id=\"T_17f01_row1_col7\" class=\"data row1 col7\" >Business</td>\n",
       "      <td id=\"T_17f01_row1_col8\" class=\"data row1 col8\" >10.420000</td>\n",
       "      <td id=\"T_17f01_row1_col9\" class=\"data row1 col9\" >49</td>\n",
       "      <td id=\"T_17f01_row1_col10\" class=\"data row1 col10\" >77105</td>\n",
       "    </tr>\n",
       "    <tr>\n",
       "      <td id=\"T_17f01_row2_col0\" class=\"data row2 col0\" >Vistara</td>\n",
       "      <td id=\"T_17f01_row2_col1\" class=\"data row2 col1\" >UK-832</td>\n",
       "      <td id=\"T_17f01_row2_col2\" class=\"data row2 col2\" >Chennai</td>\n",
       "      <td id=\"T_17f01_row2_col3\" class=\"data row2 col3\" >Early_Morning</td>\n",
       "      <td id=\"T_17f01_row2_col4\" class=\"data row2 col4\" >1</td>\n",
       "      <td id=\"T_17f01_row2_col5\" class=\"data row2 col5\" >Night</td>\n",
       "      <td id=\"T_17f01_row2_col6\" class=\"data row2 col6\" >Hyderabad</td>\n",
       "      <td id=\"T_17f01_row2_col7\" class=\"data row2 col7\" >Business</td>\n",
       "      <td id=\"T_17f01_row2_col8\" class=\"data row2 col8\" >13.830000</td>\n",
       "      <td id=\"T_17f01_row2_col9\" class=\"data row2 col9\" >49</td>\n",
       "      <td id=\"T_17f01_row2_col10\" class=\"data row2 col10\" >79099</td>\n",
       "    </tr>\n",
       "    <tr>\n",
       "      <td id=\"T_17f01_row3_col0\" class=\"data row3 col0\" >Vistara</td>\n",
       "      <td id=\"T_17f01_row3_col1\" class=\"data row3 col1\" >UK-828</td>\n",
       "      <td id=\"T_17f01_row3_col2\" class=\"data row3 col2\" >Chennai</td>\n",
       "      <td id=\"T_17f01_row3_col3\" class=\"data row3 col3\" >Early_Morning</td>\n",
       "      <td id=\"T_17f01_row3_col4\" class=\"data row3 col4\" >1</td>\n",
       "      <td id=\"T_17f01_row3_col5\" class=\"data row3 col5\" >Evening</td>\n",
       "      <td id=\"T_17f01_row3_col6\" class=\"data row3 col6\" >Hyderabad</td>\n",
       "      <td id=\"T_17f01_row3_col7\" class=\"data row3 col7\" >Business</td>\n",
       "      <td id=\"T_17f01_row3_col8\" class=\"data row3 col8\" >10.000000</td>\n",
       "      <td id=\"T_17f01_row3_col9\" class=\"data row3 col9\" >49</td>\n",
       "      <td id=\"T_17f01_row3_col10\" class=\"data row3 col10\" >81585</td>\n",
       "    </tr>\n",
       "    <tr>\n",
       "      <td id=\"T_17f01_row4_col0\" class=\"data row4 col0\" >Vistara</td>\n",
       "      <td id=\"T_17f01_row4_col1\" class=\"data row4 col1\" >UK-822</td>\n",
       "      <td id=\"T_17f01_row4_col2\" class=\"data row4 col2\" >Chennai</td>\n",
       "      <td id=\"T_17f01_row4_col3\" class=\"data row4 col3\" >Morning</td>\n",
       "      <td id=\"T_17f01_row4_col4\" class=\"data row4 col4\" >1</td>\n",
       "      <td id=\"T_17f01_row4_col5\" class=\"data row4 col5\" >Evening</td>\n",
       "      <td id=\"T_17f01_row4_col6\" class=\"data row4 col6\" >Hyderabad</td>\n",
       "      <td id=\"T_17f01_row4_col7\" class=\"data row4 col7\" >Business</td>\n",
       "      <td id=\"T_17f01_row4_col8\" class=\"data row4 col8\" >10.080000</td>\n",
       "      <td id=\"T_17f01_row4_col9\" class=\"data row4 col9\" >49</td>\n",
       "      <td id=\"T_17f01_row4_col10\" class=\"data row4 col10\" >81585</td>\n",
       "    </tr>\n",
       "  </tbody>\n",
       "</table>\n"
      ],
      "text/plain": [
       "<pandas.io.formats.style.Styler at 0x23f703fbc40>"
      ]
     },
     "execution_count": 16,
     "metadata": {},
     "output_type": "execute_result"
    }
   ],
   "source": [
    "df_flights.tail().style.hide_index()"
   ]
  },
  {
   "cell_type": "code",
   "execution_count": 17,
   "id": "b83a2475",
   "metadata": {},
   "outputs": [],
   "source": [
    "df_flights[['stops']] = df_flights[['stops']].apply(pd.to_numeric) "
   ]
  },
  {
   "cell_type": "markdown",
   "id": "80901c51",
   "metadata": {},
   "source": [
    "## Correlation matrix"
   ]
  },
  {
   "cell_type": "code",
   "execution_count": 18,
   "id": "dea7b214",
   "metadata": {},
   "outputs": [
    {
     "data": {
      "text/plain": [
       "<AxesSubplot:>"
      ]
     },
     "execution_count": 18,
     "metadata": {},
     "output_type": "execute_result"
    },
    {
     "data": {
      "image/png": "[encoded data removed]",
      "text/plain": [
       "<Figure size 432x288 with 2 Axes>"
      ]
     },
     "metadata": {
      "needs_background": "light"
     },
     "output_type": "display_data"
    }
   ],
   "source": [
    "sns.heatmap(df_flights.corr(),cmap='Pastel1',annot=True)"
   ]
  },
  {
   "cell_type": "markdown",
   "id": "e86dc568",
   "metadata": {},
   "source": [
    "## Histogram"
   ]
  },
  {
   "cell_type": "code",
   "execution_count": 19,
   "id": "66f4b1e6",
   "metadata": {},
   "outputs": [
    {
     "data": {
      "text/plain": [
       "array([[<AxesSubplot:title={'center':'stops'}>,\n",
       "        <AxesSubplot:title={'center':'duration'}>],\n",
       "       [<AxesSubplot:title={'center':'days_left'}>,\n",
       "        <AxesSubplot:title={'center':'price'}>]], dtype=object)"
      ]
     },
     "execution_count": 19,
     "metadata": {},
     "output_type": "execute_result"
    },
    {
     "data": {
      "image/png": "[encoded data removed]",
      "text/plain": [
       "<Figure size 1080x720 with 4 Axes>"
      ]
     },
     "metadata": {
      "needs_background": "light"
     },
     "output_type": "display_data"
    }
   ],
   "source": [
    "fig_size=plt.figure(figsize=(15,10))\n",
    "hist1=fig_size.gca()\n",
    "df_flights.hist(ax=hist1)"
   ]
  },
  {
   "cell_type": "markdown",
   "id": "08ffd3b8",
   "metadata": {},
   "source": [
    "## Data Visualization"
   ]
  },
  {
   "cell_type": "code",
   "execution_count": 20,
   "id": "4839c3a0",
   "metadata": {},
   "outputs": [],
   "source": [
    "from sklearn.preprocessing import LabelEncoder\n",
    "le=LabelEncoder()\n",
    "for col in df_flights.columns:\n",
    "    if df_flights[col].dtype=='object':\n",
    "        df_flights[col]=le.fit_transform(df_flights[col])"
   ]
  },
  {
   "cell_type": "code",
   "execution_count": 21,
   "id": "c2fb4fe2",
   "metadata": {},
   "outputs": [],
   "source": [
    "X=df_flights.drop(['price'],axis=1)\n",
    "y=df_flights['price']"
   ]
  },
  {
   "cell_type": "code",
   "execution_count": 22,
   "id": "29fb6c79",
   "metadata": {},
   "outputs": [],
   "source": [
    "X_train, X_test, y_train, y_test = train_test_split(X,y,test_size=0.333)"
   ]
  },
  {
   "cell_type": "code",
   "execution_count": 23,
   "id": "b395cfd5",
   "metadata": {},
   "outputs": [],
   "source": [
    "# from sklearn.preprocessing import MinMaxScaler\n",
    "# mmscaler=MinMaxScaler(feature_range=(0,1))\n",
    "# X_train=mmscaler.fit_transform(X_train)\n",
    "# X_test=mmscaler.fit_transform(X_test)\n",
    "# X_train=pd.DataFrame(X_train)\n",
    "# X_test=pd.DataFrame(X_test)  "
   ]
  },
  {
   "cell_type": "code",
   "execution_count": 24,
   "id": "4de6782d",
   "metadata": {},
   "outputs": [],
   "source": [
    "linreg=RandomForestRegressor()\n",
    "linreg.fit(X_train,y_train)\n",
    "y_pred=linreg.predict(X_test)"
   ]
  },
  {
   "cell_type": "code",
   "execution_count": 28,
   "id": "1744b0a5",
   "metadata": {},
   "outputs": [
    {
     "data": {
      "text/plain": [
       "0.9886123259690383"
      ]
     },
     "execution_count": 28,
     "metadata": {},
     "output_type": "execute_result"
    }
   ],
   "source": [
    "kf=KFold(shuffle=True, n_splits=5)\n",
    "lr_score = np.mean(cross_val_score(linreg, X_train, y_train, cv=kf, scoring='r2'))\n",
    "lr_score"
   ]
  },
  {
   "cell_type": "code",
   "execution_count": 27,
   "id": "eb28d88d",
   "metadata": {},
   "outputs": [
    {
     "data": {
      "text/plain": [
       "0.9889747375829911"
      ]
     },
     "execution_count": 27,
     "metadata": {},
     "output_type": "execute_result"
    }
   ],
   "source": [
    "# from sklearn import metrics\n",
    "# lr_r2=metrics.r2_score(y_test,y_pred)\n",
    "# lr_r2"
   ]
  },
  {
   "cell_type": "code",
   "execution_count": null,
   "id": "35d33ef0",
   "metadata": {},
   "outputs": [],
   "source": [
    "# rf_base_r2 = max(model_r2_compare.sort_values(by='Testing_R2_Score', ascending=Fals"
   ]
  },
  {
   "cell_type": "code",
   "execution_count": 29,
   "id": "6c9b8be3",
   "metadata": {},
   "outputs": [],
   "source": [
    "# creating the parameter grid for the first round\n",
    "param_grid_one = [\n",
    "                  {'bootstrap':[False, True],\n",
    "                  'n_estimators':[75, 100, 125, 150],\n",
    "                  'max_features':[2, 4, 6, 8, 10]}\n",
    "                  ]\n",
    "\n"
   ]
  },
  {
   "cell_type": "code",
   "execution_count": 31,
   "id": "001568a7",
   "metadata": {},
   "outputs": [],
   "source": [
    "# initializing the first grid search\n",
    "grid_search_one = GridSearchCV(linreg, param_grid_one, cv=5, scoring='r2', return_train_score=True)\n",
    "\n"
   ]
  },
  {
   "cell_type": "code",
   "execution_count": null,
   "id": "f8ed53ed",
   "metadata": {},
   "outputs": [],
   "source": [
    "# fitting the first grid search to the training data\n",
    "grid_search_one.fit(X_train, y_train)"
   ]
  },
  {
   "cell_type": "code",
   "execution_count": null,
   "id": "a5f9715f",
   "metadata": {},
   "outputs": [],
   "source": [
    "grid_search_one.best_params_"
   ]
  },
  {
   "cell_type": "code",
   "execution_count": 39,
   "id": "bf5e3324",
   "metadata": {},
   "outputs": [
    {
     "name": "stdout",
     "output_type": "stream",
     "text": [
      "\n",
      "Testing the RandomForestRegressor(max_features=10, n_estimators=125) model\n"
     ]
    },
    {
     "data": {
      "text/plain": [
       "0.9889695853064868"
      ]
     },
     "execution_count": 39,
     "metadata": {},
     "output_type": "execute_result"
    }
   ],
   "source": [
    "random_forest_regressor = RandomForestRegressor(bootstrap=True, max_features=10, n_estimators=125)\n",
    "model = random_forest_regressor.fit(X_train, y_train)\n",
    "print(f'\\nTesting the {random_forest_regressor} model')\n",
    "\n",
    "grid_one_test_predictions = model.predict(X_test)\n",
    "\n",
    "grid_one_r2 = r2_score(y_test, grid_one_test_predictions)\n",
    "\n",
    "grid_one_r2\n",
    "     "
   ]
  },
  {
   "cell_type": "code",
   "execution_count": null,
   "id": "977cb509",
   "metadata": {},
   "outputs": [],
   "source": []
  }
 ],
 "metadata": {
  "kernelspec": {
   "display_name": "Python 3 (ipykernel)",
   "language": "python",
   "name": "python3"
  },
  "language_info": {
   "codemirror_mode": {
    "name": "ipython",
    "version": 3
   },
   "file_extension": ".py",
   "mimetype": "text/x-python",
   "name": "python",
   "nbconvert_exporter": "python",
   "pygments_lexer": "ipython3",
   "version": "3.9.12"
  }
 },
 "nbformat": 4,
 "nbformat_minor": 5
}
